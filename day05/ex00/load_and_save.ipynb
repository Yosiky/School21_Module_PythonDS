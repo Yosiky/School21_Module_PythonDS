{
 "cells": [
  {
   "cell_type": "code",
   "execution_count": 22,
   "id": "348567ff",
   "metadata": {},
   "outputs": [],
   "source": [
    "import pandas as pd"
   ]
  },
  {
   "cell_type": "code",
   "execution_count": 31,
   "id": "95fe9b24",
   "metadata": {},
   "outputs": [
    {
     "name": "stdout",
     "output_type": "stream",
     "text": [
      "                                 user\n",
      "date_time                            \n",
      "2020-04-17 12:01:08.463179      artem\n",
      "2020-04-17 12:01:23.743946      artem\n",
      "2020-04-17 12:35:52.735016      artem\n",
      "2020-04-17 12:36:21.401412     oksana\n",
      "2020-04-17 12:36:22.023355     oksana\n",
      "...                               ...\n",
      "2020-05-21 16:36:40.915488  ekaterina\n",
      "2020-05-21 17:49:36.429237      maxim\n",
      "2020-05-21 18:45:20.441142  valentina\n",
      "2020-05-21 23:03:06.457819      maxim\n",
      "2020-05-21 23:23:49.995349      pavel\n",
      "\n",
      "[1072 rows x 1 columns]\n",
      "user    1072\n",
      "dtype: int64\n"
     ]
    }
   ],
   "source": [
    "if __name__ == \"__main__\":\n",
    "    data = pd.read_csv(\"../feed-views.log\", header=None, names=[\"datetime\", \"user\"], sep='\\t', skiprows=[2, 3], skipfooter=2, engine='python', index_col=\"datetime\")\n",
    "    data.index.name = \"date_time\"\n",
    "    print(data)\n",
    "    print(data.count())\n",
    "    data.to_csv(\"feed-views-semicolon.log\", sep=';')"
   ]
  }
 ],
 "metadata": {
  "kernelspec": {
   "display_name": "Python 3 (ipykernel)",
   "language": "python",
   "name": "python3"
  },
  "language_info": {
   "codemirror_mode": {
    "name": "ipython",
    "version": 3
   },
   "file_extension": ".py",
   "mimetype": "text/x-python",
   "name": "python",
   "nbconvert_exporter": "python",
   "pygments_lexer": "ipython3",
   "version": "3.10.6"
  }
 },
 "nbformat": 4,
 "nbformat_minor": 5
}
