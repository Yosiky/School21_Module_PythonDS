{
 "cells": [
  {
   "cell_type": "code",
   "execution_count": 37,
   "id": "1b27c694",
   "metadata": {},
   "outputs": [],
   "source": [
    "import pandas as pd"
   ]
  },
  {
   "cell_type": "markdown",
   "id": "23b053e2",
   "metadata": {},
   "source": [
    "## Read from JSON file"
   ]
  },
  {
   "cell_type": "code",
   "execution_count": 88,
   "id": "b81b0012",
   "metadata": {
    "scrolled": false
   },
   "outputs": [
    {
     "data": {
      "text/html": [
       "<div>\n",
       "<style scoped>\n",
       "    .dataframe tbody tr th:only-of-type {\n",
       "        vertical-align: middle;\n",
       "    }\n",
       "\n",
       "    .dataframe tbody tr th {\n",
       "        vertical-align: top;\n",
       "    }\n",
       "\n",
       "    .dataframe thead th {\n",
       "        text-align: right;\n",
       "    }\n",
       "</style>\n",
       "<table border=\"1\" class=\"dataframe\">\n",
       "  <thead>\n",
       "    <tr style=\"text-align: right;\">\n",
       "      <th></th>\n",
       "      <th>Refund</th>\n",
       "      <th>Fines</th>\n",
       "      <th>Make</th>\n",
       "      <th>Model</th>\n",
       "    </tr>\n",
       "    <tr>\n",
       "      <th>CarNumber</th>\n",
       "      <th></th>\n",
       "      <th></th>\n",
       "      <th></th>\n",
       "      <th></th>\n",
       "    </tr>\n",
       "  </thead>\n",
       "  <tbody>\n",
       "    <tr>\n",
       "      <th>Y163O8161RUS</th>\n",
       "      <td>2</td>\n",
       "      <td>3200.000000</td>\n",
       "      <td>Ford</td>\n",
       "      <td>Focus</td>\n",
       "    </tr>\n",
       "    <tr>\n",
       "      <th>E432XX77RUS</th>\n",
       "      <td>1</td>\n",
       "      <td>6500.000000</td>\n",
       "      <td>Toyota</td>\n",
       "      <td>Camry</td>\n",
       "    </tr>\n",
       "    <tr>\n",
       "      <th>7184TT36RUS</th>\n",
       "      <td>1</td>\n",
       "      <td>2100.000000</td>\n",
       "      <td>Ford</td>\n",
       "      <td>Focus</td>\n",
       "    </tr>\n",
       "    <tr>\n",
       "      <th>X582HE161RUS</th>\n",
       "      <td>2</td>\n",
       "      <td>2000.000000</td>\n",
       "      <td>Ford</td>\n",
       "      <td>Focus</td>\n",
       "    </tr>\n",
       "    <tr>\n",
       "      <th>92918M178RUS</th>\n",
       "      <td>1</td>\n",
       "      <td>5700.000000</td>\n",
       "      <td>Ford</td>\n",
       "      <td>Focus</td>\n",
       "    </tr>\n",
       "    <tr>\n",
       "      <th>...</th>\n",
       "      <td>...</td>\n",
       "      <td>...</td>\n",
       "      <td>...</td>\n",
       "      <td>...</td>\n",
       "    </tr>\n",
       "    <tr>\n",
       "      <th>Y163O8161RUS</th>\n",
       "      <td>2</td>\n",
       "      <td>1600.000000</td>\n",
       "      <td>Ford</td>\n",
       "      <td>Focus</td>\n",
       "    </tr>\n",
       "    <tr>\n",
       "      <th>M0309X197RUS</th>\n",
       "      <td>1</td>\n",
       "      <td>22300.000000</td>\n",
       "      <td>Ford</td>\n",
       "      <td>Focus</td>\n",
       "    </tr>\n",
       "    <tr>\n",
       "      <th>O673E8197RUS</th>\n",
       "      <td>2</td>\n",
       "      <td>600.000000</td>\n",
       "      <td>Ford</td>\n",
       "      <td>Focus</td>\n",
       "    </tr>\n",
       "    <tr>\n",
       "      <th>8610T8154RUS</th>\n",
       "      <td>1</td>\n",
       "      <td>2000.000000</td>\n",
       "      <td>Ford</td>\n",
       "      <td>Focus</td>\n",
       "    </tr>\n",
       "    <tr>\n",
       "      <th>H419XE197RUS</th>\n",
       "      <td>2</td>\n",
       "      <td>8594.586466</td>\n",
       "      <td>Toyota</td>\n",
       "      <td>Corolla</td>\n",
       "    </tr>\n",
       "  </tbody>\n",
       "</table>\n",
       "<p>725 rows × 4 columns</p>\n",
       "</div>"
      ],
      "text/plain": [
       "              Refund         Fines    Make    Model\n",
       "CarNumber                                          \n",
       "Y163O8161RUS       2   3200.000000    Ford    Focus\n",
       "E432XX77RUS        1   6500.000000  Toyota    Camry\n",
       "7184TT36RUS        1   2100.000000    Ford    Focus\n",
       "X582HE161RUS       2   2000.000000    Ford    Focus\n",
       "92918M178RUS       1   5700.000000    Ford    Focus\n",
       "...              ...           ...     ...      ...\n",
       "Y163O8161RUS       2   1600.000000    Ford    Focus\n",
       "M0309X197RUS       1  22300.000000    Ford    Focus\n",
       "O673E8197RUS       2    600.000000    Ford    Focus\n",
       "8610T8154RUS       1   2000.000000    Ford    Focus\n",
       "H419XE197RUS       2   8594.586466  Toyota  Corolla\n",
       "\n",
       "[725 rows x 4 columns]"
      ]
     },
     "execution_count": 88,
     "metadata": {},
     "output_type": "execute_result"
    }
   ],
   "source": [
    "data = pd.read_json(\"../ex02/auto.json\")\n",
    "data.set_index(\"CarNumber\", inplace=True)\n",
    "data"
   ]
  },
  {
   "cell_type": "markdown",
   "id": "74dca47e",
   "metadata": {},
   "source": [
    "# make the following selects"
   ]
  },
  {
   "cell_type": "code",
   "execution_count": 39,
   "id": "734bcebb",
   "metadata": {},
   "outputs": [
    {
     "name": "stdout",
     "output_type": "stream",
     "text": [
      "data['fines'] > 2100\n"
     ]
    },
    {
     "data": {
      "text/html": [
       "<div>\n",
       "<style scoped>\n",
       "    .dataframe tbody tr th:only-of-type {\n",
       "        vertical-align: middle;\n",
       "    }\n",
       "\n",
       "    .dataframe tbody tr th {\n",
       "        vertical-align: top;\n",
       "    }\n",
       "\n",
       "    .dataframe thead th {\n",
       "        text-align: right;\n",
       "    }\n",
       "</style>\n",
       "<table border=\"1\" class=\"dataframe\">\n",
       "  <thead>\n",
       "    <tr style=\"text-align: right;\">\n",
       "      <th></th>\n",
       "      <th>Refund</th>\n",
       "      <th>Fines</th>\n",
       "      <th>Make</th>\n",
       "      <th>Model</th>\n",
       "    </tr>\n",
       "    <tr>\n",
       "      <th>CarNumber</th>\n",
       "      <th></th>\n",
       "      <th></th>\n",
       "      <th></th>\n",
       "      <th></th>\n",
       "    </tr>\n",
       "  </thead>\n",
       "  <tbody>\n",
       "    <tr>\n",
       "      <th>Y163O8161RUS</th>\n",
       "      <td>2</td>\n",
       "      <td>3200.000000</td>\n",
       "      <td>Ford</td>\n",
       "      <td>Focus</td>\n",
       "    </tr>\n",
       "    <tr>\n",
       "      <th>E432XX77RUS</th>\n",
       "      <td>1</td>\n",
       "      <td>6500.000000</td>\n",
       "      <td>Toyota</td>\n",
       "      <td>Camry</td>\n",
       "    </tr>\n",
       "    <tr>\n",
       "      <th>92918M178RUS</th>\n",
       "      <td>1</td>\n",
       "      <td>5700.000000</td>\n",
       "      <td>Ford</td>\n",
       "      <td>Focus</td>\n",
       "    </tr>\n",
       "    <tr>\n",
       "      <th>H234YH197RUS</th>\n",
       "      <td>2</td>\n",
       "      <td>6000.000000</td>\n",
       "      <td>Ford</td>\n",
       "      <td>Focus</td>\n",
       "    </tr>\n",
       "    <tr>\n",
       "      <th>E40577152RUS</th>\n",
       "      <td>1</td>\n",
       "      <td>8594.586466</td>\n",
       "      <td>Ford</td>\n",
       "      <td>Focus</td>\n",
       "    </tr>\n",
       "    <tr>\n",
       "      <th>...</th>\n",
       "      <td>...</td>\n",
       "      <td>...</td>\n",
       "      <td>...</td>\n",
       "      <td>...</td>\n",
       "    </tr>\n",
       "    <tr>\n",
       "      <th>O718MM163RUS</th>\n",
       "      <td>2</td>\n",
       "      <td>8594.586466</td>\n",
       "      <td>Ford</td>\n",
       "      <td>Focus</td>\n",
       "    </tr>\n",
       "    <tr>\n",
       "      <th>7065C8197RUS</th>\n",
       "      <td>2</td>\n",
       "      <td>11400.000000</td>\n",
       "      <td>Volkswagen</td>\n",
       "      <td>Passat</td>\n",
       "    </tr>\n",
       "    <tr>\n",
       "      <th>O22097197RUS</th>\n",
       "      <td>1</td>\n",
       "      <td>24300.000000</td>\n",
       "      <td>Ford</td>\n",
       "      <td>Focus</td>\n",
       "    </tr>\n",
       "    <tr>\n",
       "      <th>M0309X197RUS</th>\n",
       "      <td>1</td>\n",
       "      <td>22300.000000</td>\n",
       "      <td>Ford</td>\n",
       "      <td>Focus</td>\n",
       "    </tr>\n",
       "    <tr>\n",
       "      <th>H419XE197RUS</th>\n",
       "      <td>2</td>\n",
       "      <td>8594.586466</td>\n",
       "      <td>Toyota</td>\n",
       "      <td>Corolla</td>\n",
       "    </tr>\n",
       "  </tbody>\n",
       "</table>\n",
       "<p>455 rows × 4 columns</p>\n",
       "</div>"
      ],
      "text/plain": [
       "              Refund         Fines        Make    Model\n",
       "CarNumber                                              \n",
       "Y163O8161RUS       2   3200.000000        Ford    Focus\n",
       "E432XX77RUS        1   6500.000000      Toyota    Camry\n",
       "92918M178RUS       1   5700.000000        Ford    Focus\n",
       "H234YH197RUS       2   6000.000000        Ford    Focus\n",
       "E40577152RUS       1   8594.586466        Ford    Focus\n",
       "...              ...           ...         ...      ...\n",
       "O718MM163RUS       2   8594.586466        Ford    Focus\n",
       "7065C8197RUS       2  11400.000000  Volkswagen   Passat\n",
       "O22097197RUS       1  24300.000000        Ford    Focus\n",
       "M0309X197RUS       1  22300.000000        Ford    Focus\n",
       "H419XE197RUS       2   8594.586466      Toyota  Corolla\n",
       "\n",
       "[455 rows x 4 columns]"
      ]
     },
     "execution_count": 39,
     "metadata": {},
     "output_type": "execute_result"
    }
   ],
   "source": [
    "data[data[\"Fines\"] > 2100]"
   ]
  },
  {
   "cell_type": "code",
   "execution_count": 32,
   "id": "5e51cf5a",
   "metadata": {},
   "outputs": [
    {
     "name": "stdout",
     "output_type": "stream",
     "text": [
      "\n",
      "data['fines'] > 2100 and data['refund'] == 2\n",
      "              Refund         Fines        Make    Model\n",
      "CarNumber                                              \n",
      "Y163O8161RUS       2   3200.000000        Ford    Focus\n",
      "H234YH197RUS       2   6000.000000        Ford    Focus\n",
      "707987163RUS       2   2200.000000        Ford    Focus\n",
      "K330T8197RUS       2   8200.000000       Skoda  Octavia\n",
      "M592CH197RUS       2   8594.586466       Skoda  Octavia\n",
      "...              ...           ...         ...      ...\n",
      "O136HO197RUS       2   7800.000000      Toyota  Corolla\n",
      "O68897197RUS       2  12300.000000        Ford    Focus\n",
      "O718MM163RUS       2   8594.586466        Ford    Focus\n",
      "7065C8197RUS       2  11400.000000  Volkswagen   Passat\n",
      "H419XE197RUS       2   8594.586466      Toyota  Corolla\n",
      "\n",
      "[309 rows x 4 columns]\n"
     ]
    }
   ],
   "source": [
    "print(data[(data[\"Fines\"] > 2100) & (data[\"Refund\"] == 2)])"
   ]
  },
  {
   "cell_type": "code",
   "execution_count": 40,
   "id": "63a8b817",
   "metadata": {},
   "outputs": [
    {
     "name": "stdout",
     "output_type": "stream",
     "text": [
      "\n",
      "data['model'] == ['focus', 'corolla']\n"
     ]
    },
    {
     "data": {
      "text/html": [
       "<div>\n",
       "<style scoped>\n",
       "    .dataframe tbody tr th:only-of-type {\n",
       "        vertical-align: middle;\n",
       "    }\n",
       "\n",
       "    .dataframe tbody tr th {\n",
       "        vertical-align: top;\n",
       "    }\n",
       "\n",
       "    .dataframe thead th {\n",
       "        text-align: right;\n",
       "    }\n",
       "</style>\n",
       "<table border=\"1\" class=\"dataframe\">\n",
       "  <thead>\n",
       "    <tr style=\"text-align: right;\">\n",
       "      <th></th>\n",
       "      <th>Refund</th>\n",
       "      <th>Fines</th>\n",
       "      <th>Make</th>\n",
       "      <th>Model</th>\n",
       "    </tr>\n",
       "    <tr>\n",
       "      <th>CarNumber</th>\n",
       "      <th></th>\n",
       "      <th></th>\n",
       "      <th></th>\n",
       "      <th></th>\n",
       "    </tr>\n",
       "  </thead>\n",
       "  <tbody>\n",
       "    <tr>\n",
       "      <th>Y163O8161RUS</th>\n",
       "      <td>2</td>\n",
       "      <td>3200.000000</td>\n",
       "      <td>Ford</td>\n",
       "      <td>Focus</td>\n",
       "    </tr>\n",
       "    <tr>\n",
       "      <th>7184TT36RUS</th>\n",
       "      <td>1</td>\n",
       "      <td>2100.000000</td>\n",
       "      <td>Ford</td>\n",
       "      <td>Focus</td>\n",
       "    </tr>\n",
       "    <tr>\n",
       "      <th>X582HE161RUS</th>\n",
       "      <td>2</td>\n",
       "      <td>2000.000000</td>\n",
       "      <td>Ford</td>\n",
       "      <td>Focus</td>\n",
       "    </tr>\n",
       "    <tr>\n",
       "      <th>92918M178RUS</th>\n",
       "      <td>1</td>\n",
       "      <td>5700.000000</td>\n",
       "      <td>Ford</td>\n",
       "      <td>Focus</td>\n",
       "    </tr>\n",
       "    <tr>\n",
       "      <th>H234YH197RUS</th>\n",
       "      <td>2</td>\n",
       "      <td>6000.000000</td>\n",
       "      <td>Ford</td>\n",
       "      <td>Focus</td>\n",
       "    </tr>\n",
       "    <tr>\n",
       "      <th>...</th>\n",
       "      <td>...</td>\n",
       "      <td>...</td>\n",
       "      <td>...</td>\n",
       "      <td>...</td>\n",
       "    </tr>\n",
       "    <tr>\n",
       "      <th>Y163O8161RUS</th>\n",
       "      <td>2</td>\n",
       "      <td>1600.000000</td>\n",
       "      <td>Ford</td>\n",
       "      <td>Focus</td>\n",
       "    </tr>\n",
       "    <tr>\n",
       "      <th>M0309X197RUS</th>\n",
       "      <td>1</td>\n",
       "      <td>22300.000000</td>\n",
       "      <td>Ford</td>\n",
       "      <td>Focus</td>\n",
       "    </tr>\n",
       "    <tr>\n",
       "      <th>O673E8197RUS</th>\n",
       "      <td>2</td>\n",
       "      <td>600.000000</td>\n",
       "      <td>Ford</td>\n",
       "      <td>Focus</td>\n",
       "    </tr>\n",
       "    <tr>\n",
       "      <th>8610T8154RUS</th>\n",
       "      <td>1</td>\n",
       "      <td>2000.000000</td>\n",
       "      <td>Ford</td>\n",
       "      <td>Focus</td>\n",
       "    </tr>\n",
       "    <tr>\n",
       "      <th>H419XE197RUS</th>\n",
       "      <td>2</td>\n",
       "      <td>8594.586466</td>\n",
       "      <td>Toyota</td>\n",
       "      <td>Corolla</td>\n",
       "    </tr>\n",
       "  </tbody>\n",
       "</table>\n",
       "<p>593 rows × 4 columns</p>\n",
       "</div>"
      ],
      "text/plain": [
       "              Refund         Fines    Make    Model\n",
       "CarNumber                                          \n",
       "Y163O8161RUS       2   3200.000000    Ford    Focus\n",
       "7184TT36RUS        1   2100.000000    Ford    Focus\n",
       "X582HE161RUS       2   2000.000000    Ford    Focus\n",
       "92918M178RUS       1   5700.000000    Ford    Focus\n",
       "H234YH197RUS       2   6000.000000    Ford    Focus\n",
       "...              ...           ...     ...      ...\n",
       "Y163O8161RUS       2   1600.000000    Ford    Focus\n",
       "M0309X197RUS       1  22300.000000    Ford    Focus\n",
       "O673E8197RUS       2    600.000000    Ford    Focus\n",
       "8610T8154RUS       1   2000.000000    Ford    Focus\n",
       "H419XE197RUS       2   8594.586466  Toyota  Corolla\n",
       "\n",
       "[593 rows x 4 columns]"
      ]
     },
     "execution_count": 40,
     "metadata": {},
     "output_type": "execute_result"
    }
   ],
   "source": [
    "data[data['Model'].isin(['Focus', 'Corolla'])]"
   ]
  },
  {
   "cell_type": "code",
   "execution_count": 41,
   "id": "af1368cd",
   "metadata": {},
   "outputs": [
    {
     "name": "stdout",
     "output_type": "stream",
     "text": [
      "\n",
      "data['car'] == ['Y7689C197RUS','92928M178RUS', '7788KT197RUS', 'H115YO163RUS', 'X758HY197RUS']\n"
     ]
    },
    {
     "data": {
      "text/html": [
       "<div>\n",
       "<style scoped>\n",
       "    .dataframe tbody tr th:only-of-type {\n",
       "        vertical-align: middle;\n",
       "    }\n",
       "\n",
       "    .dataframe tbody tr th {\n",
       "        vertical-align: top;\n",
       "    }\n",
       "\n",
       "    .dataframe thead th {\n",
       "        text-align: right;\n",
       "    }\n",
       "</style>\n",
       "<table border=\"1\" class=\"dataframe\">\n",
       "  <thead>\n",
       "    <tr style=\"text-align: right;\">\n",
       "      <th></th>\n",
       "      <th>Refund</th>\n",
       "      <th>Fines</th>\n",
       "      <th>Make</th>\n",
       "      <th>Model</th>\n",
       "    </tr>\n",
       "    <tr>\n",
       "      <th>CarNumber</th>\n",
       "      <th></th>\n",
       "      <th></th>\n",
       "      <th></th>\n",
       "      <th></th>\n",
       "    </tr>\n",
       "  </thead>\n",
       "  <tbody>\n",
       "    <tr>\n",
       "      <th>92928M178RUS</th>\n",
       "      <td>1</td>\n",
       "      <td>8594.586466</td>\n",
       "      <td>Ford</td>\n",
       "      <td>Focus</td>\n",
       "    </tr>\n",
       "    <tr>\n",
       "      <th>H115YO163RUS</th>\n",
       "      <td>1</td>\n",
       "      <td>2200.000000</td>\n",
       "      <td>Ford</td>\n",
       "      <td>Focus</td>\n",
       "    </tr>\n",
       "    <tr>\n",
       "      <th>7788KT197RUS</th>\n",
       "      <td>2</td>\n",
       "      <td>12000.000000</td>\n",
       "      <td>Ford</td>\n",
       "      <td>Focus</td>\n",
       "    </tr>\n",
       "    <tr>\n",
       "      <th>X758HY197RUS</th>\n",
       "      <td>2</td>\n",
       "      <td>24200.000000</td>\n",
       "      <td>Ford</td>\n",
       "      <td>Focus</td>\n",
       "    </tr>\n",
       "    <tr>\n",
       "      <th>X758HY197RUS</th>\n",
       "      <td>2</td>\n",
       "      <td>72600.000000</td>\n",
       "      <td>Ford</td>\n",
       "      <td>Focus</td>\n",
       "    </tr>\n",
       "    <tr>\n",
       "      <th>Y7689C197RUS</th>\n",
       "      <td>1</td>\n",
       "      <td>27000.000000</td>\n",
       "      <td>Ford</td>\n",
       "      <td>Focus</td>\n",
       "    </tr>\n",
       "    <tr>\n",
       "      <th>92928M178RUS</th>\n",
       "      <td>1</td>\n",
       "      <td>600.000000</td>\n",
       "      <td>Ford</td>\n",
       "      <td>Focus</td>\n",
       "    </tr>\n",
       "    <tr>\n",
       "      <th>H115YO163RUS</th>\n",
       "      <td>1</td>\n",
       "      <td>8594.586466</td>\n",
       "      <td>Ford</td>\n",
       "      <td>Focus</td>\n",
       "    </tr>\n",
       "    <tr>\n",
       "      <th>H115YO163RUS</th>\n",
       "      <td>2</td>\n",
       "      <td>1100.000000</td>\n",
       "      <td>Ford</td>\n",
       "      <td>Focus</td>\n",
       "    </tr>\n",
       "    <tr>\n",
       "      <th>7788KT197RUS</th>\n",
       "      <td>2</td>\n",
       "      <td>8594.586466</td>\n",
       "      <td>Ford</td>\n",
       "      <td>Focus</td>\n",
       "    </tr>\n",
       "    <tr>\n",
       "      <th>7788KT197RUS</th>\n",
       "      <td>1</td>\n",
       "      <td>20000.000000</td>\n",
       "      <td>Ford</td>\n",
       "      <td>Focus</td>\n",
       "    </tr>\n",
       "    <tr>\n",
       "      <th>X758HY197RUS</th>\n",
       "      <td>2</td>\n",
       "      <td>145200.000000</td>\n",
       "      <td>Ford</td>\n",
       "      <td>Focus</td>\n",
       "    </tr>\n",
       "    <tr>\n",
       "      <th>92928M178RUS</th>\n",
       "      <td>1</td>\n",
       "      <td>1200.000000</td>\n",
       "      <td>Ford</td>\n",
       "      <td>Focus</td>\n",
       "    </tr>\n",
       "    <tr>\n",
       "      <th>Y7689C197RUS</th>\n",
       "      <td>2</td>\n",
       "      <td>9000.000000</td>\n",
       "      <td>Ford</td>\n",
       "      <td>Focus</td>\n",
       "    </tr>\n",
       "    <tr>\n",
       "      <th>Y7689C197RUS</th>\n",
       "      <td>2</td>\n",
       "      <td>45000.000000</td>\n",
       "      <td>Ford</td>\n",
       "      <td>Focus</td>\n",
       "    </tr>\n",
       "    <tr>\n",
       "      <th>7788KT197RUS</th>\n",
       "      <td>2</td>\n",
       "      <td>4000.000000</td>\n",
       "      <td>Ford</td>\n",
       "      <td>Focus</td>\n",
       "    </tr>\n",
       "    <tr>\n",
       "      <th>Y7689C197RUS</th>\n",
       "      <td>1</td>\n",
       "      <td>36000.000000</td>\n",
       "      <td>Ford</td>\n",
       "      <td>Focus</td>\n",
       "    </tr>\n",
       "    <tr>\n",
       "      <th>92928M178RUS</th>\n",
       "      <td>2</td>\n",
       "      <td>3000.000000</td>\n",
       "      <td>Ford</td>\n",
       "      <td>Focus</td>\n",
       "    </tr>\n",
       "  </tbody>\n",
       "</table>\n",
       "</div>"
      ],
      "text/plain": [
       "              Refund          Fines  Make  Model\n",
       "CarNumber                                       \n",
       "92928M178RUS       1    8594.586466  Ford  Focus\n",
       "H115YO163RUS       1    2200.000000  Ford  Focus\n",
       "7788KT197RUS       2   12000.000000  Ford  Focus\n",
       "X758HY197RUS       2   24200.000000  Ford  Focus\n",
       "X758HY197RUS       2   72600.000000  Ford  Focus\n",
       "Y7689C197RUS       1   27000.000000  Ford  Focus\n",
       "92928M178RUS       1     600.000000  Ford  Focus\n",
       "H115YO163RUS       1    8594.586466  Ford  Focus\n",
       "H115YO163RUS       2    1100.000000  Ford  Focus\n",
       "7788KT197RUS       2    8594.586466  Ford  Focus\n",
       "7788KT197RUS       1   20000.000000  Ford  Focus\n",
       "X758HY197RUS       2  145200.000000  Ford  Focus\n",
       "92928M178RUS       1    1200.000000  Ford  Focus\n",
       "Y7689C197RUS       2    9000.000000  Ford  Focus\n",
       "Y7689C197RUS       2   45000.000000  Ford  Focus\n",
       "7788KT197RUS       2    4000.000000  Ford  Focus\n",
       "Y7689C197RUS       1   36000.000000  Ford  Focus\n",
       "92928M178RUS       2    3000.000000  Ford  Focus"
      ]
     },
     "execution_count": 41,
     "metadata": {},
     "output_type": "execute_result"
    }
   ],
   "source": [
    "data[data.index.isin(['Y7689C197RUS','92928M178RUS', '7788KT197RUS', 'H115YO163RUS', 'X758HY197RUS'])]"
   ]
  },
  {
   "cell_type": "markdown",
   "id": "b3b23452",
   "metadata": {},
   "source": [
    "# make the aggregations with the make and the model"
   ]
  },
  {
   "cell_type": "code",
   "execution_count": 53,
   "id": "bd8fbb23",
   "metadata": {},
   "outputs": [
    {
     "name": "stdout",
     "output_type": "stream",
     "text": [
      "median fines grouped by the make\n"
     ]
    },
    {
     "data": {
      "text/plain": [
       "Make\n",
       "Audi          4200.0\n",
       "BMW           6500.0\n",
       "Ford          3500.0\n",
       "Skoda         3250.0\n",
       "Toyota        7700.0\n",
       "Volkswagen    4300.0\n",
       "Volvo         8500.0\n",
       "Name: Fines, dtype: float64"
      ]
     },
     "execution_count": 53,
     "metadata": {},
     "output_type": "execute_result"
    }
   ],
   "source": [
    "data.groupby('Make').median(numeric_only=True)['Fines']"
   ]
  },
  {
   "cell_type": "code",
   "execution_count": 55,
   "id": "c8e8ed4b",
   "metadata": {},
   "outputs": [
    {
     "name": "stdout",
     "output_type": "stream",
     "text": [
      "display the median fines grouped by the make and the model\n"
     ]
    },
    {
     "data": {
      "text/plain": [
       "Make        Model  \n",
       "Ford        Focus      3500.0\n",
       "            Mondeo     7650.0\n",
       "Skoda       Octavia    3250.0\n",
       "Toyota      Camry      7700.0\n",
       "            Corolla    7700.0\n",
       "Volkswagen  Golf       4800.0\n",
       "            Jetta      2800.0\n",
       "            Passat     3500.0\n",
       "            Touareg    5800.0\n",
       "Name: Fines, dtype: float64"
      ]
     },
     "execution_count": 55,
     "metadata": {},
     "output_type": "execute_result"
    }
   ],
   "source": [
    "data.groupby(['Make', 'Model']).median(numeric_only=True)['Fines']"
   ]
  },
  {
   "cell_type": "code",
   "execution_count": 57,
   "id": "c5030de1",
   "metadata": {},
   "outputs": [
    {
     "data": {
      "text/plain": [
       "Make        Model  \n",
       "Ford        Focus      575\n",
       "            Mondeo       6\n",
       "Skoda       Octavia     48\n",
       "Toyota      Camry       16\n",
       "            Corolla     18\n",
       "Volkswagen  Golf        20\n",
       "            Jetta        6\n",
       "            Passat      22\n",
       "            Touareg      5\n",
       "Name: Fines, dtype: int64"
      ]
     },
     "execution_count": 57,
     "metadata": {},
     "output_type": "execute_result"
    }
   ],
   "source": [
    "data.groupby(['Make', 'Model']).count()['Fines']"
   ]
  },
  {
   "cell_type": "code",
   "execution_count": 58,
   "id": "766e112b",
   "metadata": {},
   "outputs": [
    {
     "data": {
      "text/plain": [
       "Make        Model  \n",
       "Ford        Focus      180000.000000\n",
       "            Mondeo      46200.000000\n",
       "Skoda       Octavia    145000.000000\n",
       "Toyota      Camry       22400.000000\n",
       "            Corolla     34300.000000\n",
       "Volkswagen  Golf       168000.000000\n",
       "            Jetta       46000.000000\n",
       "            Passat      29700.000000\n",
       "            Touareg      8594.586466\n",
       "Name: Fines, dtype: float64"
      ]
     },
     "execution_count": 58,
     "metadata": {},
     "output_type": "execute_result"
    }
   ],
   "source": [
    "data.groupby(['Make', 'Model']).max()['Fines']"
   ]
  },
  {
   "cell_type": "code",
   "execution_count": 59,
   "id": "fdeb82b1",
   "metadata": {},
   "outputs": [
    {
     "data": {
      "text/plain": [
       "Make        Model  \n",
       "Ford        Focus       100.0\n",
       "            Mondeo     1100.0\n",
       "Skoda       Octavia     300.0\n",
       "Toyota      Camry       500.0\n",
       "            Corolla     900.0\n",
       "Volkswagen  Golf        200.0\n",
       "            Jetta       500.0\n",
       "            Passat      100.0\n",
       "            Touareg     500.0\n",
       "Name: Fines, dtype: float64"
      ]
     },
     "execution_count": 59,
     "metadata": {},
     "output_type": "execute_result"
    }
   ],
   "source": [
    "data.groupby(['Make', 'Model']).min()['Fines']"
   ]
  },
  {
   "cell_type": "code",
   "execution_count": 60,
   "id": "42b21e18",
   "metadata": {},
   "outputs": [
    {
     "data": {
      "text/plain": [
       "Make        Model  \n",
       "Ford        Focus      15041.269437\n",
       "            Mondeo     18987.329108\n",
       "Skoda       Octavia    24339.742174\n",
       "Toyota      Camry       6410.250654\n",
       "            Corolla     9629.325617\n",
       "Volkswagen  Golf       36950.839950\n",
       "            Jetta      17743.026799\n",
       "            Passat      6969.739135\n",
       "            Touareg     3461.778173\n",
       "Name: Fines, dtype: float64"
      ]
     },
     "execution_count": 60,
     "metadata": {},
     "output_type": "execute_result"
    }
   ],
   "source": [
    "data.groupby(['Make', 'Model']).std()['Fines']"
   ]
  },
  {
   "cell_type": "markdown",
   "id": "060c63ab",
   "metadata": {},
   "source": [
    "# make the aggregations with the car number"
   ]
  },
  {
   "cell_type": "code",
   "execution_count": 96,
   "id": "dfe64431",
   "metadata": {},
   "outputs": [
    {
     "data": {
      "text/plain": [
       "CarNumber\n",
       "Y7689C197RUS    4\n",
       "92928M178RUS    4\n",
       "7788KT197RUS    4\n",
       "H115YO163RUS    3\n",
       "X758HY197RUS    3\n",
       "               ..\n",
       "E42577152RUS    1\n",
       "E42377152RUS    1\n",
       "E41977152RUS    1\n",
       "E41577152RUS    1\n",
       "H917TC36RUS     1\n",
       "Name: Fines, Length: 531, dtype: int64"
      ]
     },
     "execution_count": 96,
     "metadata": {},
     "output_type": "execute_result"
    }
   ],
   "source": [
    "df_count = data.groupby('CarNumber').count()['Fines'].sort_values(ascending=False)\n",
    "df_count"
   ]
  },
  {
   "cell_type": "code",
   "execution_count": 97,
   "id": "83c11d72",
   "metadata": {},
   "outputs": [
    {
     "data": {
      "text/html": [
       "<div>\n",
       "<style scoped>\n",
       "    .dataframe tbody tr th:only-of-type {\n",
       "        vertical-align: middle;\n",
       "    }\n",
       "\n",
       "    .dataframe tbody tr th {\n",
       "        vertical-align: top;\n",
       "    }\n",
       "\n",
       "    .dataframe thead th {\n",
       "        text-align: right;\n",
       "    }\n",
       "</style>\n",
       "<table border=\"1\" class=\"dataframe\">\n",
       "  <thead>\n",
       "    <tr style=\"text-align: right;\">\n",
       "      <th></th>\n",
       "      <th>Refund</th>\n",
       "      <th>Fines</th>\n",
       "      <th>Make</th>\n",
       "      <th>Model</th>\n",
       "    </tr>\n",
       "    <tr>\n",
       "      <th>CarNumber</th>\n",
       "      <th></th>\n",
       "      <th></th>\n",
       "      <th></th>\n",
       "      <th></th>\n",
       "    </tr>\n",
       "  </thead>\n",
       "  <tbody>\n",
       "    <tr>\n",
       "      <th>Y7689C197RUS</th>\n",
       "      <td>1</td>\n",
       "      <td>27000.0</td>\n",
       "      <td>Ford</td>\n",
       "      <td>Focus</td>\n",
       "    </tr>\n",
       "    <tr>\n",
       "      <th>Y7689C197RUS</th>\n",
       "      <td>2</td>\n",
       "      <td>9000.0</td>\n",
       "      <td>Ford</td>\n",
       "      <td>Focus</td>\n",
       "    </tr>\n",
       "    <tr>\n",
       "      <th>Y7689C197RUS</th>\n",
       "      <td>2</td>\n",
       "      <td>45000.0</td>\n",
       "      <td>Ford</td>\n",
       "      <td>Focus</td>\n",
       "    </tr>\n",
       "    <tr>\n",
       "      <th>Y7689C197RUS</th>\n",
       "      <td>1</td>\n",
       "      <td>36000.0</td>\n",
       "      <td>Ford</td>\n",
       "      <td>Focus</td>\n",
       "    </tr>\n",
       "  </tbody>\n",
       "</table>\n",
       "</div>"
      ],
      "text/plain": [
       "              Refund    Fines  Make  Model\n",
       "CarNumber                                 \n",
       "Y7689C197RUS       1  27000.0  Ford  Focus\n",
       "Y7689C197RUS       2   9000.0  Ford  Focus\n",
       "Y7689C197RUS       2  45000.0  Ford  Focus\n",
       "Y7689C197RUS       1  36000.0  Ford  Focus"
      ]
     },
     "execution_count": 97,
     "metadata": {},
     "output_type": "execute_result"
    }
   ],
   "source": [
    "data[df_count.index[0] == data.index]"
   ]
  },
  {
   "cell_type": "code",
   "execution_count": 102,
   "id": "9dc6b407",
   "metadata": {},
   "outputs": [
    {
     "data": {
      "text/plain": [
       "CarNumber\n",
       "X758HY197RUS    242000.0\n",
       "9020YC197RUS    217500.0\n",
       "M0279X197RUS    216000.0\n",
       "Y352O8197RUS    207200.0\n",
       "Y778EE197RUS    192000.0\n",
       "                  ...   \n",
       "83218C154RUS       100.0\n",
       "Y195O8161RUS       100.0\n",
       "K376HE161RUS       100.0\n",
       "705787163RUS       100.0\n",
       "K326T8197RUS       100.0\n",
       "Name: Fines, Length: 531, dtype: float64"
      ]
     },
     "execution_count": 102,
     "metadata": {},
     "output_type": "execute_result"
    }
   ],
   "source": [
    "df_sum = data.groupby('CarNumber').sum(numeric_only=True)['Fines'].sort_values(ascending=False)\n",
    "df_sum"
   ]
  },
  {
   "cell_type": "code",
   "execution_count": 103,
   "id": "d82caba8",
   "metadata": {},
   "outputs": [
    {
     "data": {
      "text/html": [
       "<div>\n",
       "<style scoped>\n",
       "    .dataframe tbody tr th:only-of-type {\n",
       "        vertical-align: middle;\n",
       "    }\n",
       "\n",
       "    .dataframe tbody tr th {\n",
       "        vertical-align: top;\n",
       "    }\n",
       "\n",
       "    .dataframe thead th {\n",
       "        text-align: right;\n",
       "    }\n",
       "</style>\n",
       "<table border=\"1\" class=\"dataframe\">\n",
       "  <thead>\n",
       "    <tr style=\"text-align: right;\">\n",
       "      <th></th>\n",
       "      <th>Refund</th>\n",
       "      <th>Fines</th>\n",
       "      <th>Make</th>\n",
       "      <th>Model</th>\n",
       "    </tr>\n",
       "    <tr>\n",
       "      <th>CarNumber</th>\n",
       "      <th></th>\n",
       "      <th></th>\n",
       "      <th></th>\n",
       "      <th></th>\n",
       "    </tr>\n",
       "  </thead>\n",
       "  <tbody>\n",
       "    <tr>\n",
       "      <th>X758HY197RUS</th>\n",
       "      <td>2</td>\n",
       "      <td>24200.0</td>\n",
       "      <td>Ford</td>\n",
       "      <td>Focus</td>\n",
       "    </tr>\n",
       "    <tr>\n",
       "      <th>X758HY197RUS</th>\n",
       "      <td>2</td>\n",
       "      <td>72600.0</td>\n",
       "      <td>Ford</td>\n",
       "      <td>Focus</td>\n",
       "    </tr>\n",
       "    <tr>\n",
       "      <th>X758HY197RUS</th>\n",
       "      <td>2</td>\n",
       "      <td>145200.0</td>\n",
       "      <td>Ford</td>\n",
       "      <td>Focus</td>\n",
       "    </tr>\n",
       "  </tbody>\n",
       "</table>\n",
       "</div>"
      ],
      "text/plain": [
       "              Refund     Fines  Make  Model\n",
       "CarNumber                                  \n",
       "X758HY197RUS       2   24200.0  Ford  Focus\n",
       "X758HY197RUS       2   72600.0  Ford  Focus\n",
       "X758HY197RUS       2  145200.0  Ford  Focus"
      ]
     },
     "execution_count": 103,
     "metadata": {},
     "output_type": "execute_result"
    }
   ],
   "source": [
    "data[df_sum.index[0] == data.index]"
   ]
  },
  {
   "cell_type": "code",
   "execution_count": 111,
   "id": "a092073d",
   "metadata": {},
   "outputs": [
    {
     "data": {
      "text/plain": [
       "CarNumber\n",
       "704687163RUS    False\n",
       "704787163RUS    False\n",
       "704987163RUS    False\n",
       "705287163RUS    False\n",
       "705387163RUS    False\n",
       "                ...  \n",
       "Y965O8197RUS    False\n",
       "Y966O8197RUS     True\n",
       "Y967O8197RUS    False\n",
       "Y969O8197RUS     True\n",
       "Y973O8197RUS     True\n",
       "Name: Model, Length: 531, dtype: bool"
      ]
     },
     "execution_count": 111,
     "metadata": {},
     "output_type": "execute_result"
    }
   ],
   "source": [
    "data.groupby('CarNumber').count()['Model'] > 1"
   ]
  },
  {
   "cell_type": "code",
   "execution_count": null,
   "id": "6b3be81f",
   "metadata": {},
   "outputs": [],
   "source": []
  }
 ],
 "metadata": {
  "kernelspec": {
   "display_name": "Python 3 (ipykernel)",
   "language": "python",
   "name": "python3"
  },
  "language_info": {
   "codemirror_mode": {
    "name": "ipython",
    "version": 3
   },
   "file_extension": ".py",
   "mimetype": "text/x-python",
   "name": "python",
   "nbconvert_exporter": "python",
   "pygments_lexer": "ipython3",
   "version": "3.10.6"
  }
 },
 "nbformat": 4,
 "nbformat_minor": 5
}
